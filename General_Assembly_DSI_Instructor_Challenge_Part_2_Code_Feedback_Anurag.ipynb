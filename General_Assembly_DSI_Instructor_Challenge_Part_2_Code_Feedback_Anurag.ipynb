{
 "cells": [
  {
   "cell_type": "markdown",
   "id": "7440f952",
   "metadata": {},
   "source": [
    "## Part 2\n",
    "\n",
    "### Feedback for Sample-1.py"
   ]
  },
  {
   "cell_type": "markdown",
   "id": "a8c1f98d",
   "metadata": {},
   "source": [
    "Code:\n",
    "    \n",
    "-library usage is simple but appropriate\n",
    "-use of dummies is also appropriate\n",
    "-cross validation score function not imported from proper module\n",
    "-mean absolute error scoring method not passed as a valid argument, needs different spelling\n",
    "-comments could be more informative and less general\n",
    "-multiple modules not imported correctly -train test split is not used anywhere and not imported correctly\n",
    "-data is loaded into variable 'd' and then a variable 'data' is referred to but not defined anywhere -data is split into two variables 'x1' and 'x2' which is not appropriate; x1 should be 'y' as it is the target variable -cross validation folds set to 1 which is not possible; must be at least 2 or more splits\n",
    "\n",
    "Methodology:\n",
    "    \n",
    "-data is not split for training and validation\n",
    "-data not checked for null values\n",
    "-model is set up to take a binary variable (part time or full time) and predict salary from this only\n",
    "-there is no statistical analysis to determine if the feature that is used is a good predictor of salary\n",
    "-the data is not checked for outliers which could significantly affect model performance\n",
    "-the distribution of the prediction variable and target variable are not plotted or assessed anywhere; if the distributions are significantly uneven, the results will not be useful and could be completely misleading -for best results, all features should evaluated for predicting power, and then different combinations of features should be used to train multiple models to identify highest scoring\n",
    "-only default parameters are used because none are specified, and this could drastically affect performance -using GridSearchCV would test all combinations of model paramaters and cross validate at the same time and is quite easy to use -data is only cross validated; the model is not fit and there is no evaluation on a test set meaning that there is no way of improving results\n",
    "-only one model type is chosen; at least two model types that use different methods are a good idea because one might perform much better than the other\n",
    "\n",
    "Conceptual Understanding:\n",
    "    \n",
    "-this setup works as a baseline model, but trying to predict a numerical value from a binary category is going to be very difficult\n",
    "-a combination of features would work much better for further understanding, but a different problem with numerical features where the student could plot the individual feature on the x axis and the salary on the y axis to visualize the relationship would be even better\n",
    "-presently, the one chosen predictive may have a correlation with the salary, but this will severely limit the model's prediction power as different types of jobs have different ranges of pay"
   ]
  },
  {
   "cell_type": "markdown",
   "id": "b28e8d25",
   "metadata": {},
   "source": [
    "### Feedback for Sample-2.py"
   ]
  },
  {
   "cell_type": "markdown",
   "id": "5f18be5e",
   "metadata": {},
   "source": [
    "Code:\n",
    "\n",
    "-library usage is simple but appropriate\n",
    "-use of dummies is also appropriate\n",
    "-cross validation score function not imported from proper module\n",
    "-mean absolute error scoring method not passed as a valid argument, needs different spelling\n",
    "-comments could be more informative and less general\n",
    "\n",
    "Methodology:\n",
    "\n",
    "-data is split into correctly named variables: X and y\n",
    "-data is not split for training and validation\n",
    "-data not checked for null values\n",
    "-model is set up to take a binary variable (part time or full time) and predict salary from this only\n",
    "-there is no statistical analysis to determine if the feature that is used is a good predictor of salary\n",
    "-the data is not checked for outliers which could significantly affect model performance\n",
    "-the distribution of the prediction variable and target variable are not plotted or assessed anywhere; if the distributions are significantly uneven, the results will not be useful and could be completely misleading -for best results, all features should evaluated for predicting power, and then different combinations of features should be used to train multiple models to identify highest scoring\n",
    "-only default parameters are used because none are specified, and this could drastically affect performance -using GridSearchCV would test all combinations of model paramaters and cross validate at the same time and is quite easy to use -data is only cross validated; the model is not fit and there is no evaluation on a test set meaning that there is no way of improving results\n",
    "-only one model type is chosen; at least two model types that use different methods are a good idea because one might perform much better than the other\n",
    "\n",
    "Conceptual Understanding:\n",
    "\n",
    "-this setup works as a baseline model, but trying to predict a numerical value from a binary category is going to be very difficult\n",
    "-a combination of features would work much better for further understanding, but a different problem with numerical features where the student could plot the individual feature on the x axis and the salary on the y axis to visualize the relationship would be even better\n",
    "-presently, the one chosen predictive may have a correlation with the salary, but this will severely limit the model's prediction power as different types of jobs have different ranges of pay\n",
    "\n"
   ]
  }
 ],
 "metadata": {
  "kernelspec": {
   "display_name": "Python 3",
   "language": "python",
   "name": "python3"
  },
  "language_info": {
   "codemirror_mode": {
    "name": "ipython",
    "version": 3
   },
   "file_extension": ".py",
   "mimetype": "text/x-python",
   "name": "python",
   "nbconvert_exporter": "python",
   "pygments_lexer": "ipython3",
   "version": "3.6.8"
  }
 },
 "nbformat": 4,
 "nbformat_minor": 5
}
